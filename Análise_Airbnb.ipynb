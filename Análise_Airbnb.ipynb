{
 "cells": [
  {
   "cell_type": "code",
   "execution_count": 30,
   "metadata": {},
   "outputs": [],
   "source": [
    "# Importa a biblioteca pandas e a renomeia como pd\n",
    "import pandas as pd\n",
    "\n",
    "# Importa a biblioteca numpy e a renomeia como np\n",
    "import numpy as np\n",
    "\n",
    "# Importa a biblioteca io, que é utilizada para manipulação de fluxos de dados (como arquivos CSV)\n",
    "import io\n",
    "\n",
    "# Importa a biblioteca plotly express e a renomeia como px\n",
    "import plotly.express as px\n",
    "\n",
    "# Importa a biblioteca plotly offline e a renomeia como pyo\n",
    "import plotly.offline as pyo\n",
    "\n",
    "# Importa a função plot da biblioteca offline do plotly\n",
    "from plotly.offline import plot\n",
    "\n",
    "# Importa a biblioteca folium, que é utilizada para visualização de mapas interativos\n",
    "import folium"
   ]
  },
  {
   "cell_type": "code",
   "execution_count": 2,
   "metadata": {},
   "outputs": [],
   "source": [
    "# Caminho do arquivo\n",
    "file_path = r\"C:\\Users\\Suelen\\Documents\\PythonDS\\AB_NYC_2019.csv\""
   ]
  },
  {
   "cell_type": "code",
   "execution_count": 5,
   "metadata": {},
   "outputs": [],
   "source": [
    "# Pandas para ler o arquivo\n",
    "df = pd.read_csv(file_path)"
   ]
  },
  {
   "cell_type": "code",
   "execution_count": 7,
   "metadata": {},
   "outputs": [
    {
     "data": {
      "text/plain": [
       "pandas.core.frame.DataFrame"
      ]
     },
     "execution_count": 7,
     "metadata": {},
     "output_type": "execute_result"
    }
   ],
   "source": [
    "# Verifica o tipo de váriavel\n",
    "type(df)"
   ]
  },
  {
   "cell_type": "code",
   "execution_count": 8,
   "metadata": {},
   "outputs": [
    {
     "data": {
      "text/plain": [
       "(48895, 16)"
      ]
     },
     "execution_count": 8,
     "metadata": {},
     "output_type": "execute_result"
    }
   ],
   "source": [
    "# Obter as dimensões (número de linhas e colunas) \n",
    "df.shape"
   ]
  },
  {
   "cell_type": "code",
   "execution_count": 9,
   "metadata": {},
   "outputs": [
    {
     "data": {
      "text/html": [
       "<div>\n",
       "<style scoped>\n",
       "    .dataframe tbody tr th:only-of-type {\n",
       "        vertical-align: middle;\n",
       "    }\n",
       "\n",
       "    .dataframe tbody tr th {\n",
       "        vertical-align: top;\n",
       "    }\n",
       "\n",
       "    .dataframe thead th {\n",
       "        text-align: right;\n",
       "    }\n",
       "</style>\n",
       "<table border=\"1\" class=\"dataframe\">\n",
       "  <thead>\n",
       "    <tr style=\"text-align: right;\">\n",
       "      <th></th>\n",
       "      <th>id</th>\n",
       "      <th>name</th>\n",
       "      <th>host_id</th>\n",
       "      <th>host_name</th>\n",
       "      <th>neighbourhood_group</th>\n",
       "      <th>neighbourhood</th>\n",
       "      <th>latitude</th>\n",
       "      <th>longitude</th>\n",
       "      <th>room_type</th>\n",
       "      <th>price</th>\n",
       "      <th>minimum_nights</th>\n",
       "      <th>number_of_reviews</th>\n",
       "      <th>last_review</th>\n",
       "      <th>reviews_per_month</th>\n",
       "      <th>calculated_host_listings_count</th>\n",
       "      <th>availability_365</th>\n",
       "    </tr>\n",
       "  </thead>\n",
       "  <tbody>\n",
       "    <tr>\n",
       "      <th>0</th>\n",
       "      <td>2539</td>\n",
       "      <td>Clean &amp; quiet apt home by the park</td>\n",
       "      <td>2787</td>\n",
       "      <td>John</td>\n",
       "      <td>Brooklyn</td>\n",
       "      <td>Kensington</td>\n",
       "      <td>40.64749</td>\n",
       "      <td>-73.97237</td>\n",
       "      <td>Private room</td>\n",
       "      <td>149</td>\n",
       "      <td>1</td>\n",
       "      <td>9</td>\n",
       "      <td>2018-10-19</td>\n",
       "      <td>0.21</td>\n",
       "      <td>6</td>\n",
       "      <td>365</td>\n",
       "    </tr>\n",
       "    <tr>\n",
       "      <th>1</th>\n",
       "      <td>2595</td>\n",
       "      <td>Skylit Midtown Castle</td>\n",
       "      <td>2845</td>\n",
       "      <td>Jennifer</td>\n",
       "      <td>Manhattan</td>\n",
       "      <td>Midtown</td>\n",
       "      <td>40.75362</td>\n",
       "      <td>-73.98377</td>\n",
       "      <td>Entire home/apt</td>\n",
       "      <td>225</td>\n",
       "      <td>1</td>\n",
       "      <td>45</td>\n",
       "      <td>2019-05-21</td>\n",
       "      <td>0.38</td>\n",
       "      <td>2</td>\n",
       "      <td>355</td>\n",
       "    </tr>\n",
       "    <tr>\n",
       "      <th>2</th>\n",
       "      <td>3647</td>\n",
       "      <td>THE VILLAGE OF HARLEM....NEW YORK !</td>\n",
       "      <td>4632</td>\n",
       "      <td>Elisabeth</td>\n",
       "      <td>Manhattan</td>\n",
       "      <td>Harlem</td>\n",
       "      <td>40.80902</td>\n",
       "      <td>-73.94190</td>\n",
       "      <td>Private room</td>\n",
       "      <td>150</td>\n",
       "      <td>3</td>\n",
       "      <td>0</td>\n",
       "      <td>NaN</td>\n",
       "      <td>NaN</td>\n",
       "      <td>1</td>\n",
       "      <td>365</td>\n",
       "    </tr>\n",
       "    <tr>\n",
       "      <th>3</th>\n",
       "      <td>3831</td>\n",
       "      <td>Cozy Entire Floor of Brownstone</td>\n",
       "      <td>4869</td>\n",
       "      <td>LisaRoxanne</td>\n",
       "      <td>Brooklyn</td>\n",
       "      <td>Clinton Hill</td>\n",
       "      <td>40.68514</td>\n",
       "      <td>-73.95976</td>\n",
       "      <td>Entire home/apt</td>\n",
       "      <td>89</td>\n",
       "      <td>1</td>\n",
       "      <td>270</td>\n",
       "      <td>2019-07-05</td>\n",
       "      <td>4.64</td>\n",
       "      <td>1</td>\n",
       "      <td>194</td>\n",
       "    </tr>\n",
       "    <tr>\n",
       "      <th>4</th>\n",
       "      <td>5022</td>\n",
       "      <td>Entire Apt: Spacious Studio/Loft by central park</td>\n",
       "      <td>7192</td>\n",
       "      <td>Laura</td>\n",
       "      <td>Manhattan</td>\n",
       "      <td>East Harlem</td>\n",
       "      <td>40.79851</td>\n",
       "      <td>-73.94399</td>\n",
       "      <td>Entire home/apt</td>\n",
       "      <td>80</td>\n",
       "      <td>10</td>\n",
       "      <td>9</td>\n",
       "      <td>2018-11-19</td>\n",
       "      <td>0.10</td>\n",
       "      <td>1</td>\n",
       "      <td>0</td>\n",
       "    </tr>\n",
       "  </tbody>\n",
       "</table>\n",
       "</div>"
      ],
      "text/plain": [
       "     id                                              name  host_id  \\\n",
       "0  2539                Clean & quiet apt home by the park     2787   \n",
       "1  2595                             Skylit Midtown Castle     2845   \n",
       "2  3647               THE VILLAGE OF HARLEM....NEW YORK !     4632   \n",
       "3  3831                   Cozy Entire Floor of Brownstone     4869   \n",
       "4  5022  Entire Apt: Spacious Studio/Loft by central park     7192   \n",
       "\n",
       "     host_name neighbourhood_group neighbourhood  latitude  longitude  \\\n",
       "0         John            Brooklyn    Kensington  40.64749  -73.97237   \n",
       "1     Jennifer           Manhattan       Midtown  40.75362  -73.98377   \n",
       "2    Elisabeth           Manhattan        Harlem  40.80902  -73.94190   \n",
       "3  LisaRoxanne            Brooklyn  Clinton Hill  40.68514  -73.95976   \n",
       "4        Laura           Manhattan   East Harlem  40.79851  -73.94399   \n",
       "\n",
       "         room_type  price  minimum_nights  number_of_reviews last_review  \\\n",
       "0     Private room    149               1                  9  2018-10-19   \n",
       "1  Entire home/apt    225               1                 45  2019-05-21   \n",
       "2     Private room    150               3                  0         NaN   \n",
       "3  Entire home/apt     89               1                270  2019-07-05   \n",
       "4  Entire home/apt     80              10                  9  2018-11-19   \n",
       "\n",
       "   reviews_per_month  calculated_host_listings_count  availability_365  \n",
       "0               0.21                               6               365  \n",
       "1               0.38                               2               355  \n",
       "2                NaN                               1               365  \n",
       "3               4.64                               1               194  \n",
       "4               0.10                               1                 0  "
      ]
     },
     "execution_count": 9,
     "metadata": {},
     "output_type": "execute_result"
    }
   ],
   "source": [
    "# Exibir as primeiras linhas de um DataFrame\n",
    "df.head()"
   ]
  },
  {
   "cell_type": "code",
   "execution_count": null,
   "metadata": {},
   "outputs": [],
   "source": [
    "# Tipos de dados das colunas\n",
    "df.dtypes"
   ]
  },
  {
   "cell_type": "code",
   "execution_count": null,
   "metadata": {},
   "outputs": [],
   "source": [
    "# Contar o número de valores ausentes (NaN, Not a Number) em cada coluna\n",
    "df.isna().sum()"
   ]
  },
  {
   "cell_type": "code",
   "execution_count": null,
   "metadata": {},
   "outputs": [],
   "source": [
    "# Obter informações detalhadas sobre a planilha\n",
    "df.info()"
   ]
  },
  {
   "cell_type": "code",
   "execution_count": 13,
   "metadata": {},
   "outputs": [],
   "source": [
    "# Removendo todas as linhas que contêm pelo menos um valor ausente (NaN)\n",
    "df1 = df.dropna()"
   ]
  },
  {
   "cell_type": "code",
   "execution_count": 14,
   "metadata": {},
   "outputs": [
    {
     "data": {
      "text/plain": [
       "(38821, 16)"
      ]
     },
     "execution_count": 14,
     "metadata": {},
     "output_type": "execute_result"
    }
   ],
   "source": [
    "# Obter as dimensões (número de linhas e colunas) \n",
    "df1.shape"
   ]
  },
  {
   "cell_type": "code",
   "execution_count": 15,
   "metadata": {},
   "outputs": [
    {
     "data": {
      "text/plain": [
       "142.33252621004095"
      ]
     },
     "execution_count": 15,
     "metadata": {},
     "output_type": "execute_result"
    }
   ],
   "source": [
    "#Valor médio dos aluguéis na cidade de Nova York\n",
    "cols = ['price'] # Define uma lista cols contendo o nome da coluna desejada, que neste caso é 'price'.\n",
    "price = df1.loc[:,cols] # Cria um novo DataFrame chamado price contendo apenas a coluna 'price' do DataFrame original df1. O uso de .loc[:, cols] é uma maneira de selecionar colunas específicas.\n",
    "np.mean(price) # Utiliza a biblioteca NumPy (np) para calcular a média dos valores na coluna 'price' do DataFrame price."
   ]
  },
  {
   "cell_type": "code",
   "execution_count": 16,
   "metadata": {},
   "outputs": [
    {
     "data": {
      "text/plain": [
       "array(['Bronx', 'Brooklyn', 'Manhattan', 'Queens', 'Staten Island'],\n",
       "      dtype=object)"
      ]
     },
     "execution_count": 16,
     "metadata": {},
     "output_type": "execute_result"
    }
   ],
   "source": [
    "# Nomes das regiões\n",
    "cols = ['neighbourhood_group'] # Define uma lista cols contendo o nome da coluna desejada, que neste caso é 'neighbourhood_group'.\n",
    "regiao = df1.loc[:, cols] # Cria um novo DataFrame chamado regiao contendo apenas a coluna 'neighbourhood_group' do DataFrame original df1.\n",
    "np.unique(regiao) # Utiliza a função np.unique da biblioteca NumPy para encontrar os valores únicos na coluna 'neighbourhood_group'. Esta função retorna um array contendo os valores únicos presentes na coluna."
   ]
  },
  {
   "cell_type": "code",
   "execution_count": 17,
   "metadata": {},
   "outputs": [
    {
     "data": {
      "text/plain": [
       "10000"
      ]
     },
     "execution_count": 17,
     "metadata": {},
     "output_type": "execute_result"
    }
   ],
   "source": [
    "#Valor máximo de alguel em NY\n",
    "cols = ['price'] # Define uma lista cols contendo o nome da coluna desejada, que neste caso é 'price'.\n",
    "price = df1.loc[:,cols] # Cria um novo DataFrame chamado price contendo apenas a coluna 'price' do DataFrame original df1.\n",
    "np.max(price) # Utiliza a função np.max da biblioteca NumPy para encontrar o valor máximo na coluna 'price'. Esta função retorna o valor máximo presente na array."
   ]
  },
  {
   "cell_type": "code",
   "execution_count": 22,
   "metadata": {},
   "outputs": [],
   "source": [
    "# Removendo todas as linhas que contêm pelo menos um valor ausente (NaN)\n",
    "df1= df.dropna()\n",
    "\n",
    "# Remover imóveis com a coluna availability_365 igual a 0\n",
    "df1 = df1.loc[df1['availability_365'] > 0]"
   ]
  },
  {
   "cell_type": "code",
   "execution_count": null,
   "metadata": {},
   "outputs": [],
   "source": [
    "# Categorias de imóveis cadastrados\n",
    "cols = ['room_type'] #  Define uma lista cols contendo o nome da coluna desejada, que neste caso é 'room_type'.\n",
    "np.unique(df1.loc[:, cols]) # Utiliza a função np.unique da biblioteca NumPy para encontrar os valores únicos. A função retorna um array contendo os valores únicos presentes na coluna 'room_type'."
   ]
  },
  {
   "cell_type": "code",
   "execution_count": 24,
   "metadata": {},
   "outputs": [
    {
     "data": {
      "text/plain": [
       "18936"
      ]
     },
     "execution_count": 24,
     "metadata": {},
     "output_type": "execute_result"
    }
   ],
   "source": [
    "# Quantos hosts tem cadastrados\n",
    "cols = ['host_id'] # Define uma lista cols contendo o nome da coluna desejada, que neste caso é 'host_id'.\n",
    "df1.loc[:,cols] # Seleciona apenas a coluna 'host_id' do DataFrame df1. Isso cria uma Série do pandas contendo os valores dessa coluna.\n",
    "len(np.unique(df1.loc[:,cols])) # Calcula o comprimento (número de elementos) do array retornado por np.unique. Portanto, len(np.unique(df1.loc[:,cols])) fornece o número de valores únicos na coluna 'host_id'."
   ]
  },
  {
   "cell_type": "code",
   "execution_count": 26,
   "metadata": {},
   "outputs": [
    {
     "name": "stdout",
     "output_type": "stream",
     "text": [
      "Desvio Padrão:  198.8429266334769\n",
      "Média:  149.9\n"
     ]
    }
   ],
   "source": [
    "# Desvio Padrão e Média de Preços dos aluguéis\n",
    "coluna_preco = df1['price']\n",
    "\n",
    "# Desvio padrão\n",
    "desvio_padrao = np.std(coluna_preco)\n",
    "print(\"Desvio Padrão: \", desvio_padrao)\n",
    "\n",
    "# Média de preço\n",
    "media_preco = np.mean(coluna_preco)\n",
    "print(\"Média: \", round(media_preco, 2))"
   ]
  },
  {
   "cell_type": "code",
   "execution_count": 31,
   "metadata": {},
   "outputs": [
    {
     "data": {
      "text/plain": [
       "'temp-plot.html'"
      ]
     },
     "execution_count": 31,
     "metadata": {},
     "output_type": "execute_result"
    }
   ],
   "source": [
    "# Imoveis caros e baratos (HISTOGRAMA) - Abre uma janela no Navegador\n",
    "fig = px.histogram(df1, x='price', nbins=300)\n",
    "\n",
    "# Usando plotly.offline para exibir o gráfico\n",
    "plot(fig)"
   ]
  },
  {
   "cell_type": "code",
   "execution_count": 39,
   "metadata": {},
   "outputs": [
    {
     "data": {
      "text/plain": [
       "'temp-plot.html'"
      ]
     },
     "execution_count": 39,
     "metadata": {},
     "output_type": "execute_result"
    }
   ],
   "source": [
    "# Imoveis caros e baratos (HISTOGRAMA) - com filtro\n",
    "fig = px.histogram(df1.loc[df1['price'] < 1000, :], 'price', nbins=300)\n",
    "\n",
    "# Usando plotly.offline para exibir o gráfico\n",
    "plot(fig)\n"
   ]
  },
  {
   "cell_type": "code",
   "execution_count": 42,
   "metadata": {},
   "outputs": [
    {
     "data": {
      "text/plain": [
       "'temp-plot.html'"
      ]
     },
     "execution_count": 42,
     "metadata": {},
     "output_type": "execute_result"
    }
   ],
   "source": [
    "# Distribuição do número de avaliações\n",
    "\n",
    "fig = px.histogram(df1, 'number_of_reviews',nbins=200)\n",
    "\n",
    "# Usando plotly.offline para exibir o gráfico\n",
    "plot(fig)"
   ]
  },
  {
   "cell_type": "code",
   "execution_count": 45,
   "metadata": {},
   "outputs": [
    {
     "data": {
      "text/plain": [
       "'temp-plot.html'"
      ]
     },
     "execution_count": 45,
     "metadata": {},
     "output_type": "execute_result"
    }
   ],
   "source": [
    "# Valor de alguel mais caro em cada região dos imóveis disponíveis para alugar\n",
    "cols = ['neighbourhood_group','price']\n",
    "data_plot = df1.loc[:,cols].groupby('neighbourhood_group').max().reset_index()\n",
    "\n",
    "fig = px.bar(data_plot, x='neighbourhood_group',y='price')\n",
    "\n",
    "# Usando plotly.offline para exibir o gráfico\n",
    "plot(fig)"
   ]
  },
  {
   "cell_type": "code",
   "execution_count": 48,
   "metadata": {},
   "outputs": [
    {
     "data": {
      "text/html": [
       "<div style=\"width:100%;\"><div style=\"position:relative;width:100%;height:0;padding-bottom:60%;\"><span style=\"color:#565656\">Make this Notebook Trusted to load map: File -> Trust Notebook</span><iframe srcdoc=\"&lt;!DOCTYPE html&gt;\n",
       "&lt;html&gt;\n",
       "&lt;head&gt;\n",
       "    \n",
       "    &lt;meta http-equiv=&quot;content-type&quot; content=&quot;text/html; charset=UTF-8&quot; /&gt;\n",
       "    \n",
       "        &lt;script&gt;\n",
       "            L_NO_TOUCH = false;\n",
       "            L_DISABLE_3D = false;\n",
       "        &lt;/script&gt;\n",
       "    \n",
       "    &lt;style&gt;html, body {width: 100%;height: 100%;margin: 0;padding: 0;}&lt;/style&gt;\n",
       "    &lt;style&gt;#map {position:absolute;top:0;bottom:0;right:0;left:0;}&lt;/style&gt;\n",
       "    &lt;script src=&quot;https://cdn.jsdelivr.net/npm/leaflet@1.9.3/dist/leaflet.js&quot;&gt;&lt;/script&gt;\n",
       "    &lt;script src=&quot;https://code.jquery.com/jquery-3.7.1.min.js&quot;&gt;&lt;/script&gt;\n",
       "    &lt;script src=&quot;https://cdn.jsdelivr.net/npm/bootstrap@5.2.2/dist/js/bootstrap.bundle.min.js&quot;&gt;&lt;/script&gt;\n",
       "    &lt;script src=&quot;https://cdnjs.cloudflare.com/ajax/libs/Leaflet.awesome-markers/2.0.2/leaflet.awesome-markers.js&quot;&gt;&lt;/script&gt;\n",
       "    &lt;link rel=&quot;stylesheet&quot; href=&quot;https://cdn.jsdelivr.net/npm/leaflet@1.9.3/dist/leaflet.css&quot;/&gt;\n",
       "    &lt;link rel=&quot;stylesheet&quot; href=&quot;https://cdn.jsdelivr.net/npm/bootstrap@5.2.2/dist/css/bootstrap.min.css&quot;/&gt;\n",
       "    &lt;link rel=&quot;stylesheet&quot; href=&quot;https://netdna.bootstrapcdn.com/bootstrap/3.0.0/css/bootstrap.min.css&quot;/&gt;\n",
       "    &lt;link rel=&quot;stylesheet&quot; href=&quot;https://cdn.jsdelivr.net/npm/@fortawesome/fontawesome-free@6.2.0/css/all.min.css&quot;/&gt;\n",
       "    &lt;link rel=&quot;stylesheet&quot; href=&quot;https://cdnjs.cloudflare.com/ajax/libs/Leaflet.awesome-markers/2.0.2/leaflet.awesome-markers.css&quot;/&gt;\n",
       "    &lt;link rel=&quot;stylesheet&quot; href=&quot;https://cdn.jsdelivr.net/gh/python-visualization/folium/folium/templates/leaflet.awesome.rotate.min.css&quot;/&gt;\n",
       "    \n",
       "            &lt;meta name=&quot;viewport&quot; content=&quot;width=device-width,\n",
       "                initial-scale=1.0, maximum-scale=1.0, user-scalable=no&quot; /&gt;\n",
       "            &lt;style&gt;\n",
       "                #map_b90efd4efc8fda24a92afbf658fbaf67 {\n",
       "                    position: relative;\n",
       "                    width: 800.0px;\n",
       "                    height: 800.0px;\n",
       "                    left: 0.0%;\n",
       "                    top: 0.0%;\n",
       "                }\n",
       "                .leaflet-container { font-size: 1rem; }\n",
       "            &lt;/style&gt;\n",
       "        \n",
       "&lt;/head&gt;\n",
       "&lt;body&gt;\n",
       "    \n",
       "    \n",
       "            &lt;div class=&quot;folium-map&quot; id=&quot;map_b90efd4efc8fda24a92afbf658fbaf67&quot; &gt;&lt;/div&gt;\n",
       "        \n",
       "&lt;/body&gt;\n",
       "&lt;script&gt;\n",
       "    \n",
       "    \n",
       "            var map_b90efd4efc8fda24a92afbf658fbaf67 = L.map(\n",
       "                &quot;map_b90efd4efc8fda24a92afbf658fbaf67&quot;,\n",
       "                {\n",
       "                    center: [0.0, 0.0],\n",
       "                    crs: L.CRS.EPSG3857,\n",
       "                    zoom: 1,\n",
       "                    zoomControl: true,\n",
       "                    preferCanvas: false,\n",
       "                }\n",
       "            );\n",
       "\n",
       "            \n",
       "\n",
       "        \n",
       "    \n",
       "            var tile_layer_81538f0f5f54c08d90cd2aac30b11f39 = L.tileLayer(\n",
       "                &quot;https://tile.openstreetmap.org/{z}/{x}/{y}.png&quot;,\n",
       "                {&quot;attribution&quot;: &quot;\\u0026copy; \\u003ca href=\\&quot;https://www.openstreetmap.org/copyright\\&quot;\\u003eOpenStreetMap\\u003c/a\\u003e contributors&quot;, &quot;detectRetina&quot;: false, &quot;maxNativeZoom&quot;: 19, &quot;maxZoom&quot;: 19, &quot;minZoom&quot;: 0, &quot;noWrap&quot;: false, &quot;opacity&quot;: 1, &quot;subdomains&quot;: &quot;abc&quot;, &quot;tms&quot;: false}\n",
       "            );\n",
       "        \n",
       "    \n",
       "            tile_layer_81538f0f5f54c08d90cd2aac30b11f39.addTo(map_b90efd4efc8fda24a92afbf658fbaf67);\n",
       "        \n",
       "    \n",
       "            var marker_e6ccea9235cc96bcde51fb5c4c28fc8e = L.marker(\n",
       "                [40.91306, -73.78158],\n",
       "                {}\n",
       "            ).addTo(map_b90efd4efc8fda24a92afbf658fbaf67);\n",
       "        \n",
       "    \n",
       "        var popup_8a2ee1cb035398a3d29a06e18baeb8dd = L.popup({&quot;maxWidth&quot;: &quot;100%&quot;});\n",
       "\n",
       "        \n",
       "            \n",
       "                var html_471366453dd2e45ef53f32a208186e69 = $(`&lt;div id=&quot;html_471366453dd2e45ef53f32a208186e69&quot; style=&quot;width: 100.0%; height: 100.0%;&quot;&gt;Bronx&lt;/div&gt;`)[0];\n",
       "                popup_8a2ee1cb035398a3d29a06e18baeb8dd.setContent(html_471366453dd2e45ef53f32a208186e69);\n",
       "            \n",
       "        \n",
       "\n",
       "        marker_e6ccea9235cc96bcde51fb5c4c28fc8e.bindPopup(popup_8a2ee1cb035398a3d29a06e18baeb8dd)\n",
       "        ;\n",
       "\n",
       "        \n",
       "    \n",
       "    \n",
       "            var marker_27af5b5ce2763a5129a86fa31344ce67 = L.marker(\n",
       "                [40.7389, -73.85676],\n",
       "                {}\n",
       "            ).addTo(map_b90efd4efc8fda24a92afbf658fbaf67);\n",
       "        \n",
       "    \n",
       "        var popup_9201d15297c28a01b1be5b7081e9a666 = L.popup({&quot;maxWidth&quot;: &quot;100%&quot;});\n",
       "\n",
       "        \n",
       "            \n",
       "                var html_c78ee5db7d25e5ef63b10a13929dc379 = $(`&lt;div id=&quot;html_c78ee5db7d25e5ef63b10a13929dc379&quot; style=&quot;width: 100.0%; height: 100.0%;&quot;&gt;Brooklyn&lt;/div&gt;`)[0];\n",
       "                popup_9201d15297c28a01b1be5b7081e9a666.setContent(html_c78ee5db7d25e5ef63b10a13929dc379);\n",
       "            \n",
       "        \n",
       "\n",
       "        marker_27af5b5ce2763a5129a86fa31344ce67.bindPopup(popup_9201d15297c28a01b1be5b7081e9a666)\n",
       "        ;\n",
       "\n",
       "        \n",
       "    \n",
       "    \n",
       "            var marker_0c1d88006cf45b7a09aa3b4aec48db88 = L.marker(\n",
       "                [40.87665, -73.90855],\n",
       "                {}\n",
       "            ).addTo(map_b90efd4efc8fda24a92afbf658fbaf67);\n",
       "        \n",
       "    \n",
       "        var popup_dc43327f6913340f1c9a7f2bc23f725d = L.popup({&quot;maxWidth&quot;: &quot;100%&quot;});\n",
       "\n",
       "        \n",
       "            \n",
       "                var html_752a9973d3ca6e622da63b589468b0ab = $(`&lt;div id=&quot;html_752a9973d3ca6e622da63b589468b0ab&quot; style=&quot;width: 100.0%; height: 100.0%;&quot;&gt;Manhattan&lt;/div&gt;`)[0];\n",
       "                popup_dc43327f6913340f1c9a7f2bc23f725d.setContent(html_752a9973d3ca6e622da63b589468b0ab);\n",
       "            \n",
       "        \n",
       "\n",
       "        marker_0c1d88006cf45b7a09aa3b4aec48db88.bindPopup(popup_dc43327f6913340f1c9a7f2bc23f725d)\n",
       "        ;\n",
       "\n",
       "        \n",
       "    \n",
       "    \n",
       "            var marker_e386d0e5944f6d485540c93ea8f188bf = L.marker(\n",
       "                [40.79721, -73.71299],\n",
       "                {}\n",
       "            ).addTo(map_b90efd4efc8fda24a92afbf658fbaf67);\n",
       "        \n",
       "    \n",
       "        var popup_a832ca4dc4145b5f4ef7c22fc23d1dda = L.popup({&quot;maxWidth&quot;: &quot;100%&quot;});\n",
       "\n",
       "        \n",
       "            \n",
       "                var html_8a7a7921c7f708a81ad4a8a014024c7f = $(`&lt;div id=&quot;html_8a7a7921c7f708a81ad4a8a014024c7f&quot; style=&quot;width: 100.0%; height: 100.0%;&quot;&gt;Queens&lt;/div&gt;`)[0];\n",
       "                popup_a832ca4dc4145b5f4ef7c22fc23d1dda.setContent(html_8a7a7921c7f708a81ad4a8a014024c7f);\n",
       "            \n",
       "        \n",
       "\n",
       "        marker_e386d0e5944f6d485540c93ea8f188bf.bindPopup(popup_a832ca4dc4145b5f4ef7c22fc23d1dda)\n",
       "        ;\n",
       "\n",
       "        \n",
       "    \n",
       "    \n",
       "            var marker_f8351448b47946046f9832474465f2e7 = L.marker(\n",
       "                [40.64779, -74.06356],\n",
       "                {}\n",
       "            ).addTo(map_b90efd4efc8fda24a92afbf658fbaf67);\n",
       "        \n",
       "    \n",
       "        var popup_5177059677076f8847fa459f969b24ec = L.popup({&quot;maxWidth&quot;: &quot;100%&quot;});\n",
       "\n",
       "        \n",
       "            \n",
       "                var html_fb3b2d7e9dbfa866c9db3c8d2d86298e = $(`&lt;div id=&quot;html_fb3b2d7e9dbfa866c9db3c8d2d86298e&quot; style=&quot;width: 100.0%; height: 100.0%;&quot;&gt;Staten Island&lt;/div&gt;`)[0];\n",
       "                popup_5177059677076f8847fa459f969b24ec.setContent(html_fb3b2d7e9dbfa866c9db3c8d2d86298e);\n",
       "            \n",
       "        \n",
       "\n",
       "        marker_f8351448b47946046f9832474465f2e7.bindPopup(popup_5177059677076f8847fa459f969b24ec)\n",
       "        ;\n",
       "\n",
       "        \n",
       "    \n",
       "&lt;/script&gt;\n",
       "&lt;/html&gt;\" style=\"position:absolute;width:100%;height:100%;left:0;top:0;border:none !important;\" allowfullscreen webkitallowfullscreen mozallowfullscreen></iframe></div></div>"
      ],
      "text/plain": [
       "<folium.folium.Map at 0x19a0e081950>"
      ]
     },
     "execution_count": 48,
     "metadata": {},
     "output_type": "execute_result"
    }
   ],
   "source": [
    "# Mapa Interativo\n",
    " #Conjunto de dados, comando para desenhar o mapa e pontos de latitude e longitude dentro do mapa\n",
    "\n",
    "cols = ['price','neighbourhood_group','latitude','longitude'] # Colunas que serão utilizadas\n",
    "data_plot = df1.loc[:,cols].groupby('neighbourhood_group').max().reset_index() # Agrupa os dados pelo 'neighbourhood_group' e, em seguida, calcula o valor máximo em cada grupo.\n",
    "mapa= folium.Map( #Cria um objeto de mapa Folium com largura, altura e nível de zoom especificados.\n",
    "    width=800,height=800, \n",
    "    zoom_start=3)\n",
    "\n",
    "for index, location_info in data_plot.iterrows():folium.Marker( [location_info['latitude'], location_info['longitude']], popup=location_info['neighbourhood_group'] ).add_to(mapa) # Para cada linha no DataFrame data_plot, cria um marcador no mapa.\n",
    "\n",
    "mapa #Exibe o mapa."
   ]
  }
 ],
 "metadata": {
  "kernelspec": {
   "display_name": "Python 3",
   "language": "python",
   "name": "python3"
  },
  "language_info": {
   "codemirror_mode": {
    "name": "ipython",
    "version": 3
   },
   "file_extension": ".py",
   "mimetype": "text/x-python",
   "name": "python",
   "nbconvert_exporter": "python",
   "pygments_lexer": "ipython3",
   "version": "3.11.7"
  }
 },
 "nbformat": 4,
 "nbformat_minor": 2
}
